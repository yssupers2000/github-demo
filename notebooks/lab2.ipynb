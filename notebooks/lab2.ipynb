{
 "cells": [
  {
   "cell_type": "code",
   "execution_count": null,
   "metadata": {},
   "outputs": [],
   "source": [
    "#prediction_key = \"700799768f3a4f708adb9591616e4932\"\n",
    "#prediction_endpoint = \"https://customtest-prediction.cognitiveservices.azure.com\"\n",
    "#project_id = \"2a6e1202-f478-46da-bd97-a0e00651d015\"\n",
    "#model_name = \"Iteration1\"\n",
    "\n",
    "prediction_key = \"201b921992764c2aa4da40ef87063656\"\n",
    "prediction_endpoint = \"https://findbasalthighlandon-prediction.cognitiveservices.azure.com\"\n",
    "project_id = \"ba24466c-b3d3-468d-94bb-d464466a3503\"\n",
    "model_name = \"Iteration1\""
   ]
  }
 ],
 "metadata": {
  "language_info": {
   "name": "python"
  }
 },
 "nbformat": 4,
 "nbformat_minor": 2
}
